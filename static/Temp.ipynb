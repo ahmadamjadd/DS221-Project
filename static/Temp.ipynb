{
 "cells": [
  {
   "cell_type": "code",
   "execution_count": 1,
   "metadata": {},
   "outputs": [],
   "source": [
    "import pandas as pd"
   ]
  },
  {
   "cell_type": "code",
   "execution_count": 2,
   "metadata": {},
   "outputs": [],
   "source": [
    "df = pd.read_csv(\"marks.csv\")"
   ]
  },
  {
   "cell_type": "code",
   "execution_count": 4,
   "metadata": {},
   "outputs": [],
   "source": [
    "def assign_grade(marks):\n",
    "    if marks >= 85:\n",
    "        return 'A (3.67 - 4.00)'\n",
    "    elif 80 <= marks <= 84:\n",
    "        return 'A- (3.34 - 3.66)'\n",
    "    elif 75 <= marks <= 79:\n",
    "        return 'B+ (3.01 - 3.33)'\n",
    "    elif 71 <= marks <= 74:\n",
    "        return 'B (2.67 - 3.00)'\n",
    "    elif 68 <= marks <= 70:\n",
    "        return 'B- (2.34 - 2.66)'\n",
    "    elif 64 <= marks <= 67:\n",
    "        return 'C+ (2.01 - 2.33)'\n",
    "    elif 61 <= marks <= 63:\n",
    "        return 'C (1.67 - 2.00)'\n",
    "    elif 58 <= marks <= 60:\n",
    "        return 'C- (1.31 - 1.66)'\n",
    "    elif 54 <= marks <= 57:\n",
    "        return 'D+ (1.01 - 1.30)'\n",
    "    elif 50 <= marks <= 53:\n",
    "        return 'D (0.10 - 1.00)'\n",
    "    else:\n",
    "        return 'F (0.00)'\n"
   ]
  },
  {
   "cell_type": "code",
   "execution_count": null,
   "metadata": {},
   "outputs": [],
   "source": [
    "def generate_grade_report(df):\n",
    "    new_df = df.copy()\n",
    "    new_df['grade'] = new_df['marks'].apply(assign_grade)\n",
    "    return new_df"
   ]
  }
 ],
 "metadata": {
  "kernelspec": {
   "display_name": "Python 3",
   "language": "python",
   "name": "python3"
  },
  "language_info": {
   "codemirror_mode": {
    "name": "ipython",
    "version": 3
   },
   "file_extension": ".py",
   "mimetype": "text/x-python",
   "name": "python",
   "nbconvert_exporter": "python",
   "pygments_lexer": "ipython3",
   "version": "3.12.5"
  }
 },
 "nbformat": 4,
 "nbformat_minor": 2
}
